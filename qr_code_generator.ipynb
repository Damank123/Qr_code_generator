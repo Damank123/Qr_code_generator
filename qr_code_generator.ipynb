{
 "cells": [
  {
   "cell_type": "code",
   "execution_count": 2,
   "id": "592f5754-9a80-4f8f-88bd-da7356117dff",
   "metadata": {},
   "outputs": [
    {
     "name": "stdout",
     "output_type": "stream",
     "text": [
      "Requirement already satisfied: qrcode in c:\\users\\daman\\appdata\\local\\programs\\python\\python312\\lib\\site-packages (7.4.2)\n",
      "Requirement already satisfied: typing-extensions in c:\\users\\daman\\appdata\\local\\programs\\python\\python312\\lib\\site-packages (from qrcode) (4.9.0)\n",
      "Requirement already satisfied: pypng in c:\\users\\daman\\appdata\\local\\programs\\python\\python312\\lib\\site-packages (from qrcode) (0.20220715.0)\n",
      "Requirement already satisfied: colorama in c:\\users\\daman\\appdata\\local\\programs\\python\\python312\\lib\\site-packages (from qrcode) (0.4.6)\n",
      "Note: you may need to restart the kernel to use updated packages.\n"
     ]
    }
   ],
   "source": [
    "pip install qrcode"
   ]
  },
  {
   "cell_type": "code",
   "execution_count": 3,
   "id": "accb8dd8-095a-4391-b7c9-9e8c9aaf0aee",
   "metadata": {},
   "outputs": [
    {
     "name": "stdout",
     "output_type": "stream",
     "text": [
      "Requirement already satisfied: pillow in c:\\users\\daman\\appdata\\local\\programs\\python\\python312\\lib\\site-packages (10.2.0)\n",
      "Requirement already satisfied: qrcode[pil] in c:\\users\\daman\\appdata\\local\\programs\\python\\python312\\lib\\site-packages (7.4.2)\n",
      "Requirement already satisfied: typing-extensions in c:\\users\\daman\\appdata\\local\\programs\\python\\python312\\lib\\site-packages (from qrcode[pil]) (4.9.0)\n",
      "Requirement already satisfied: pypng in c:\\users\\daman\\appdata\\local\\programs\\python\\python312\\lib\\site-packages (from qrcode[pil]) (0.20220715.0)\n",
      "Requirement already satisfied: colorama in c:\\users\\daman\\appdata\\local\\programs\\python\\python312\\lib\\site-packages (from qrcode[pil]) (0.4.6)\n",
      "Note: you may need to restart the kernel to use updated packages.\n"
     ]
    }
   ],
   "source": [
    "pip install qrcode[pil] pillow\n"
   ]
  },
  {
   "cell_type": "code",
   "execution_count": 4,
   "id": "bc3ba0ed-8451-4139-af79-25131b6ddd48",
   "metadata": {},
   "outputs": [],
   "source": [
    "import qrcode\n",
    "from tkinter import *\n",
    "from tkinter import messagebox\n",
    "from PIL import Image, ImageTk\n"
   ]
  },
  {
   "cell_type": "code",
   "execution_count": null,
   "id": "ae6a5edd-e892-4e4d-8942-75b06d3cda5a",
   "metadata": {},
   "outputs": [],
   "source": [
    "# Initialize the main window\n",
    "root = Tk()\n",
    "root.title(\"QR Code Generator\")\n",
    "root.geometry(\"400x500\")\n",
    "\n",
    "# Add a title label\n",
    "Label(root, text=\"Enter Data for QR Code\", font=(\"Helvetica\", 14)).pack(pady=10)\n",
    "\n",
    "# Create an Entry widget for user input\n",
    "data_entry = Entry(root, width=40, font=(\"Helvetica\", 12))\n",
    "data_entry.pack(pady=10)\n",
    "\n",
    "# Function to generate the QR code\n",
    "def generate_qr():\n",
    "    data = data_entry.get()\n",
    "    if data:\n",
    "        qr = qrcode.QRCode(\n",
    "            version=1,  # Controls the size of the QR Code, values range from 1 to 40\n",
    "            error_correction=qrcode.constants.ERROR_CORRECT_H,  # About 30% or less error can be corrected\n",
    "            box_size=10,  # Size of each box in pixels\n",
    "            border=4,  # Border size (minimum is 4)\n",
    "        )\n",
    "        qr.add_data(data)\n",
    "        qr.make(fit=True)\n",
    "        \n",
    "        # Generate the QR code image\n",
    "        qr_image = qr.make_image(fill='black', back_color='white')\n",
    "        \n",
    "        # Save the QR code image\n",
    "        qr_image.save(\"qr_code.png\")\n",
    "        \n",
    "        # Display success message\n",
    "        messagebox.showinfo(\"Success\", \"QR Code generated and saved as 'qr_code.png'.\")\n",
    "\n",
    "        # Load the image for displaying in the GUI\n",
    "        qr_image = Image.open(\"qr_code.png\")\n",
    "        qr_image = qr_image.resize((200, 200), Image.ANTIALIAS)\n",
    "        qr_image = ImageTk.PhotoImage(qr_image)\n",
    "\n",
    "        # Display the QR code image in the GUI\n",
    "        qr_label.config(image=qr_image)\n",
    "        qr_label.image = qr_image\n",
    "    else:\n",
    "        messagebox.showwarning(\"Input Error\", \"Please enter data to generate a QR code.\")\n",
    "\n",
    "# Button to trigger the QR code generation\n",
    "Button(root, text=\"Generate QR Code\", command=generate_qr, font=(\"Helvetica\", 12)).pack(pady=20)\n",
    "\n",
    "# Label to display the generated QR code\n",
    "qr_label = Label(root)\n",
    "qr_label.pack(pady=20)\n",
    "\n",
    "# Start the Tkinter main loop\n",
    "root.mainloop()\n"
   ]
  },
  {
   "cell_type": "code",
   "execution_count": null,
   "id": "e66ee0e7-637d-4c1a-a262-c0a52ec2046c",
   "metadata": {},
   "outputs": [],
   "source": []
  }
 ],
 "metadata": {
  "kernelspec": {
   "display_name": "Python 3 (ipykernel)",
   "language": "python",
   "name": "python3"
  },
  "language_info": {
   "codemirror_mode": {
    "name": "ipython",
    "version": 3
   },
   "file_extension": ".py",
   "mimetype": "text/x-python",
   "name": "python",
   "nbconvert_exporter": "python",
   "pygments_lexer": "ipython3",
   "version": "3.12.0"
  }
 },
 "nbformat": 4,
 "nbformat_minor": 5
}
